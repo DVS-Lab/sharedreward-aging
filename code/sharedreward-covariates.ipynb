{
 "cells": [
  {
   "cell_type": "code",
   "execution_count": 1,
   "id": "f3eb1d2e-5f0c-45ab-b96a-cfe334d3b0ca",
   "metadata": {},
   "outputs": [],
   "source": [
    "## Need to add collapse across wins/loss for partner to the heatmap\n",
    "## Use absolute value for that ^^\n",
    "## make sure to demean all the current output\n",
    "## add dummy code for study ID to capture third flip angle"
   ]
  },
  {
   "cell_type": "code",
   "execution_count": null,
   "id": "b983e1dc-b1ad-4689-9f64-8f7dc2bd9e0f",
   "metadata": {},
   "outputs": [],
   "source": [
    "import seaborn as sns\n",
    "import matplotlib.pyplot as plt\n",
    "import pandas as pd\n",
    "import numpy as np\n",
    "import os"
   ]
  },
  {
   "cell_type": "code",
   "execution_count": null,
   "id": "3ebf8cb3-d8f9-406d-bd7a-5aad8562e3d1",
   "metadata": {},
   "outputs": [],
   "source": [
    "pd.set_option('display.max_colwidth', None)\n",
    "pd.set_option('display.max_rows', None)"
   ]
  },
  {
   "cell_type": "code",
   "execution_count": null,
   "id": "ac883d72-ef51-4d6a-b036-56514cabddc3",
   "metadata": {},
   "outputs": [],
   "source": [
    "script_dir = os.getcwd()"
   ]
  },
  {
   "cell_type": "code",
   "execution_count": null,
   "id": "b7f10d92-e6c2-4c49-b64b-86dc2225693a",
   "metadata": {},
   "outputs": [],
   "source": [
    "bids_dir = os.path.join(os.getcwd(), '..', 'ds003745')\n",
    "bids_dir = os.path.abspath(bids_dir)"
   ]
  },
  {
   "cell_type": "code",
   "execution_count": null,
   "id": "ea36adbf-f0ef-4721-905d-f09cdf02ebaf",
   "metadata": {},
   "outputs": [],
   "source": [
    "age_srndna_path = os.path.join(bids_dir, 'participants.tsv')\n",
    "age_rf1_path = os.path.join(bids_dir, 'participants-rf1.tsv')"
   ]
  },
  {
   "cell_type": "code",
   "execution_count": null,
   "id": "fba12056-411c-401b-ae75-6ed53dd9bf0f",
   "metadata": {},
   "outputs": [],
   "source": [
    "age_srndna = pd.read_table(age_srndna_path)\n",
    "age_rf1 = pd.read_table(age_rf1_path)\n",
    "age_df = pd.concat([age_srndna, age_rf1])\n",
    "age_df = age_df.rename(columns={\"participant_id\": \"sub\"})\n",
    "age_df['sub'] = age_df['sub'].str.replace('^sub-', '', regex=True)\n",
    "age_df['sub'] = age_df['sub'].astype(int)\n",
    "display(age_df)"
   ]
  },
  {
   "cell_type": "code",
   "execution_count": null,
   "id": "915a5d08-3946-4cff-b658-568756900261",
   "metadata": {},
   "outputs": [],
   "source": [
    "## Load in the combined logs file and remove erroneous ratings files for sub 104 and sub 10369\n",
    "\n",
    "logs = os.path.join(script_dir, 'combined_logs_with_age.csv')\n",
    "logs_df = pd.read_csv(logs)\n",
    "logs_df = logs_df.drop([6, 7, 8, 9, 10, 11, 276, 277, 278, 279, 280, 281])\n",
    "\n",
    "# Apply absolute value to the \"response\" column\n",
    "logs_df['response'] = abs(logs_df['response'])\n",
    "\n",
    "# Display the modified DataFrame\n",
    "display(logs_df)"
   ]
  },
  {
   "cell_type": "code",
   "execution_count": null,
   "id": "3f127aad-3e63-4dd3-b9d8-2e77dc353bbf",
   "metadata": {},
   "outputs": [],
   "source": [
    "fmri_metrics = os.path.join(script_dir, 'exclusions_tsnr-fdmean.csv') # This df stores tsnr and fdmean \n",
    "metrics_df = pd.read_csv(fmri_metrics)\n",
    "display(metrics_df)"
   ]
  },
  {
   "cell_type": "code",
   "execution_count": null,
   "id": "37e3df2e-6c87-40da-9699-6a405cf0b8de",
   "metadata": {},
   "outputs": [],
   "source": [
    "fsl_inputs = os.path.join(script_dir, 'L3inputs.csv') # This df stores the relevant FSL inputs\n",
    "fsl_df = pd.read_csv(fsl_inputs)\n",
    "print(fsl_df)"
   ]
  },
  {
   "cell_type": "code",
   "execution_count": null,
   "id": "609866e4-0ba8-4ddf-a4c7-7ab354a82078",
   "metadata": {},
   "outputs": [],
   "source": [
    "flip_angle =  os.path.join(script_dir, 'flip.csv') # This df stores the flip angle designation to be used for dummy variable coding\n",
    "flip_df = pd.read_csv(flip_angle)\n",
    "display(flip_df)"
   ]
  },
  {
   "cell_type": "code",
   "execution_count": null,
   "id": "2b7784e2-165c-480e-9813-6fc0002c44d7",
   "metadata": {},
   "outputs": [],
   "source": [
    "# This cell is used to clean the logs files so that each sub only has one row\n",
    "# Need to add code to drop index column\n",
    "\n",
    "# Pivot the dataframe to reshape it so that each subject has a single row\n",
    "pivot_df = logs_df.pivot_table(index='sub', columns=['partner', 'trait'], values='response')\n",
    "\n",
    "# Flatten the MultiIndex columns\n",
    "pivot_df.columns = [f'partner_{col[0]}_trait_{col[1]}' for col in pivot_df.columns]\n",
    "\n",
    "# Merge the age information back\n",
    "pivot_df = pivot_df.merge(logs_df[['sub', 'age']].drop_duplicates(), on='sub', how='left')\n",
    "\n",
    "# Reset index to make 'sub' a column again\n",
    "pivot_df.reset_index(inplace=True)\n",
    "pivot_df = pivot_df.drop(['index'], axis = 1)\n",
    "\n",
    "\n",
    "# Print the shape of the reformatted dataframe\n",
    "#print(\"Shape of the reformatted dataframe:\", pivot_df.shape)\n",
    "display(pivot_df.head())"
   ]
  },
  {
   "cell_type": "code",
   "execution_count": null,
   "id": "74643d29-1623-48be-a104-c34f8e21c327",
   "metadata": {},
   "outputs": [],
   "source": [
    "# This cell is responsbile for adding the correct L3 input to the subject row\n",
    "fsl_df['Subject'] = fsl_df['path'].str.extract(r'sub-(\\d+)').astype(int)\n",
    "fsl_df['Run'] = fsl_df['path'].str.extract(r'run-(\\d+)').fillna('3').astype(int)\n",
    "display(fsl_df)"
   ]
  },
  {
   "cell_type": "code",
   "execution_count": null,
   "id": "1228efce-53f4-4694-bb4d-10d8f71be346",
   "metadata": {},
   "outputs": [],
   "source": [
    "# Now that we have our list of inputs, we can pull out the proper tsnr and fdmean for each subject\n",
    "# Metric values should be derived from the same L1 run as the L3 input, if L2, use the average of both runs\n",
    "# We are also going to do the math in this cell for averaging the variables\n",
    "\n",
    "# Pivot the DataFrame to reshape it\n",
    "parsed_metrics_df = metrics_df.pivot(index='Subject', columns='Run')\n",
    "\n",
    "# Flatten the MultiIndex columns\n",
    "parsed_metrics_df.columns = [f'{var}_{run}' for var, run in parsed_metrics_df.columns]\n",
    "\n",
    "# Create the averages and the columns for them\n",
    "parsed_metrics_df['avg_tsnr'] = parsed_metrics_df[['vsmean_stan_1', 'vsmean_stan_2']].mean(axis=1)\n",
    "parsed_metrics_df['avg_fdmean'] = parsed_metrics_df[['fd_mean_1', 'fd_mean_2']].mean(axis=1)\n",
    "\n",
    "# Print the reshaped DataFrame\n",
    "display(parsed_metrics_df)"
   ]
  },
  {
   "cell_type": "code",
   "execution_count": null,
   "id": "8fce15eb-b700-4b7a-9516-ba292081a691",
   "metadata": {},
   "outputs": [],
   "source": [
    "# Merge the metrics df with the L3inputs (fsl) df and drop unecessary columns\n",
    "metric_run_merge_df = pd.merge(fsl_df, parsed_metrics_df, on='Subject')\n",
    "metric_run_merge_df = pd.merge(fsl_df, parsed_metrics_df, on='Subject')\n",
    "\n",
    "\n",
    "# Create the new columns based on 'Run'\n",
    "metric_run_merge_df['tsnr'] = metric_run_merge_df.apply(\n",
    "    lambda row: row['vsmean_stan_1'] if row['Run'] == 1 else (row['vsmean_stan_2'] if row['Run'] == 2 else row['avg_tsnr']),\n",
    "    axis=1\n",
    ")\n",
    "metric_run_merge_df['fdmean'] = metric_run_merge_df.apply(\n",
    "    lambda row: row['fd_mean_1'] if row['Run'] == 1 else (row['fd_mean_2'] if row['Run'] == 2 else row['avg_fdmean']),\n",
    "    axis=1\n",
    ")\n",
    "\n",
    "\n",
    "# Add dummy coding for study ID (SRNDNA=0 and RF1=1)\n",
    "metric_run_merge_df['study'] = metric_run_merge_df['Subject'].apply(lambda x: 0 if len(str(x)) == 3 else 1)\n",
    "\n",
    "# Add columns of ones\n",
    "metric_run_merge_df['ones'] = metric_run_merge_df['Subject'].apply(lambda x: '1')\n",
    "\n",
    "\n",
    "# Rename Subject column to sub for reusability\n",
    "metric_run_merge_df = metric_run_merge_df.rename(columns={\"Subject\": \"sub\"})\n",
    "metric_run_merge_df = pd.merge(flip_df, metric_run_merge_df, on='sub')\n",
    "metric_run_merge_df = pd.merge(age_df, metric_run_merge_df, on='sub')\n",
    "metric_run_merge_df = metric_run_merge_df[['sub', 'age', 'tsnr', 'fdmean', 'flip', 'study']]\n",
    "\n",
    "\n",
    "# Print the new DataFrame\n",
    "print(metric_run_merge_df)"
   ]
  },
  {
   "cell_type": "code",
   "execution_count": null,
   "id": "02011a54-3356-4e35-a20d-4aa571191fe1",
   "metadata": {},
   "outputs": [],
   "source": [
    "import pandas as pd\n",
    "\n",
    "# Define columns to demean, excluding 'sub', 'flip', and 'study'\n",
    "columns_to_demean = metric_run_merge_df.columns.difference(['sub', 'flip', 'study'])\n",
    "\n",
    "# Demean the selected columns\n",
    "demeaned_df = metric_run_merge_df[columns_to_demean].apply(lambda x: x - x.mean(), axis=0)\n",
    "\n",
    "# Combine the demeaned columns with the original 'B' column\n",
    "result_df = pd.concat([demeaned_df, metric_run_merge_df[['sub', 'flip', 'study']]], axis=1)\n",
    "\n",
    "# Add 'ones' column as '1' based on 'sub'\n",
    "result_df['ones'] = result_df['sub'].apply(lambda x: '1')\n",
    "\n",
    "# Reorder columns with 'sub' and 'ones' at the beginning\n",
    "columns = result_df.columns.tolist()\n",
    "columns.insert(0, columns.pop(columns.index('sub')))\n",
    "columns.insert(1, columns.pop(columns.index('ones')))\n",
    "result_df = result_df[columns]\n",
    "\n",
    "# Display the result\n",
    "display(result_df)\n",
    "\n",
    "# Save to CSV\n",
    "result_df.to_csv('result_df.csv', index=False)\n"
   ]
  },
  {
   "cell_type": "code",
   "execution_count": null,
   "id": "3195c728-0ed0-4190-8a4f-49091d31d856",
   "metadata": {},
   "outputs": [],
   "source": [
    "## Now it will make the most sense to merge the inputs to the covariates dataframe for quality assurance and easier copy pasting\n",
    "\n",
    "# Re-extract the sub variable from the L3inputs\n",
    "fsl_df['sub'] = fsl_df['path'].str.extract(r'sub-(\\d+)').astype(int)\n",
    "# fsl_df = fsl_df.drop(['Subject', 'Run'], axis = 1)\n",
    "columns = fsl_df.columns.tolist()\n",
    "columns.insert(0, columns.pop(columns.index('sub')))\n",
    "fsl_df = fsl_df[columns]\n",
    "\n",
    "# Merge result\n",
    "final_df = pd.merge(result_df, fsl_df, on='sub')\n",
    "final_df = final_df.drop(['Subject', 'Run'], axis = 1)\n",
    "display(final_df)\n",
    "final_df.to_csv('final_df.csv', index=False)\n"
   ]
  },
  {
   "cell_type": "code",
   "execution_count": null,
   "id": "b2eaf60c-ace1-4e64-adbb-95cb66595905",
   "metadata": {},
   "outputs": [],
   "source": [
    "# This cell pulls ratings and creates the difference columns. \n",
    "# FYI: Partner vals: 3=Friend, 2=Stranger, 1=Computer\n",
    "# FYI: Trait vals: 0=How did it feel to win, 1=How did it feel to lose\n",
    "\n",
    "# Load the reformatted CSV file\n",
    "data = pivot_df\n",
    "\n",
    "# List of partner combinations\n",
    "partner_pairs = [(3, 2), (3, 1)]\n",
    "\n",
    "# Create a new DataFrame to store the differences\n",
    "diff_df = pd.DataFrame()\n",
    "\n",
    "# Iterate over each trait\n",
    "for trait in [0, 1]:\n",
    "    for (p1, p2) in partner_pairs:\n",
    "        # Generate the column names\n",
    "        col1 = f'partner_{p1}_trait_{trait}'\n",
    "        col2 = f'partner_{p2}_trait_{trait}'\n",
    "        \n",
    "        # Calculate the difference\n",
    "        diff_col_name = f'diff_partner_{p1}_{p2}_trait_{trait}'\n",
    "        diff_df[diff_col_name] = data[col1] - data[col2]\n",
    "\n",
    "# Merge the differences with the original data\n",
    "result_df = pd.concat([data, diff_df], axis=1)\n",
    "\n",
    "# Calculate (F_win - F_loss) - (S_win - S_loss)\n",
    "result_df['Fwin_minus_Floss_minus_Swin_minus_Sloss'] = (result_df['partner_3_trait_0'] - result_df['partner_3_trait_1']) - (result_df['partner_2_trait_0'] - result_df['partner_2_trait_1'])\n",
    "\n",
    "# Calculate (F_win - F_loss) - (C_win - C_loss)\n",
    "result_df['Fwin_minus_Floss_minus_Cwin_minus_Closs'] = (result_df['partner_3_trait_0'] - result_df['partner_3_trait_1']) - (result_df['partner_1_trait_0'] - result_df['partner_1_trait_1'])\n",
    "\n",
    "# Calculate (F_win + S_win + C_win) - (F_loss + S_loss + C_loss)\n",
    "result_df['FSC_win_minus_FSC_loss'] = (result_df['partner_3_trait_0'] + result_df['partner_2_trait_0'] + result_df['partner_1_trait_0']) - (result_df['partner_3_trait_1'] + result_df['partner_2_trait_1'] + result_df['partner_1_trait_1'])\n",
    "\n",
    "# Merge the almost complete data with the metric_run_merge dataframe\n",
    "# At this point we should have all of the necessary covariates in one dataframe\n",
    "full_covs_df = pd.merge(result_df, metric_run_merge_df, on='sub')\n",
    "\n",
    "# Rename all of the condition columns for clarity\n",
    "full_covs_df = full_covs_df.rename(columns={\n",
    "    \"Subject\": \"sub\",\n",
    "    \"age_y\" : \"age\",\n",
    "    \"partner_1_trait_0\": \"C_win\",\n",
    "    \"partner_1_trait_1\": \"C_loss\",\n",
    "    \"partner_2_trait_0\": \"S_win\",\n",
    "    \"partner_2_trait_1\": \"S_loss\",\n",
    "    \"partner_3_trait_0\": \"F_win\",\n",
    "    \"partner_3_trait_1\": \"F_loss\",\n",
    "    \"diff_partner_3_2_trait_0\": \"FminS_win\",\n",
    "    \"diff_partner_3_1_trait_0\": \"FminC_win\",\n",
    "    \"diff_partner_3_2_trait_1\": \"FminS_loss\",\n",
    "    \"diff_partner_3_1_trait_1\": \"FminC_loss\"\n",
    "})\n",
    "\n",
    "# Print the first few rows of the resulting DataFrame\n",
    "result_df.to_csv('result_df.csv', index=False)\n",
    "print(full_covs_df)\n"
   ]
  },
  {
   "cell_type": "code",
   "execution_count": null,
   "id": "274340a3-0888-4ff9-978c-6a4655692ad6",
   "metadata": {},
   "outputs": [],
   "source": [
    "# Almost finished here, need to create two tables\n",
    "# First table will have the sub in it for when we go to make sure our inputs are in the proper order for L3\n",
    "# Second table will be used for copy and pasting into the fsl gui\n",
    "# Can also create custom tables for various models as seen in cells above (\n",
    "# This cell will be me for running the correlation matrix\n",
    "\n",
    "table_sub = full_covs_df[['age','sub',\n",
    "                      'tsnr', 'fdmean',\n",
    "                      'C_win','C_loss',\n",
    "                      'S_win','S_loss',\n",
    "                      'F_win','F_loss',\n",
    "                      'FminS_win','FminS_loss',\n",
    "                      'FminC_win', 'FminC_loss', \n",
    "                      'Fwin_minus_Floss_minus_Swin_minus_Sloss',\n",
    "                      'Fwin_minus_Floss_minus_Cwin_minus_Closs',\n",
    "                      'FSC_win_minus_FSC_loss']]\n",
    "\n",
    "table = full_covs_df[['age',\n",
    "                      'tsnr', 'fdmean',\n",
    "                      'C_win','C_loss',\n",
    "                      'S_win','S_loss',\n",
    "                      'F_win','F_loss',\n",
    "                      'FminS_win','FminS_loss',\n",
    "                      'FminC_win', 'FminC_loss']]\n",
    "\n",
    "display(table_sub)"
   ]
  },
  {
   "cell_type": "code",
   "execution_count": null,
   "id": "241a28ab-50ed-429a-9094-6e2967df5fd9",
   "metadata": {},
   "outputs": [],
   "source": [
    "# Set the figure size\n",
    "plt.figure(figsize=(12, 8))\n",
    "\n",
    "# Generate the heatmap\n",
    "heatmap = sns.heatmap(table_sub.corr(), cmap='vlag', annot=True, fmt=\".2f\", linewidths=.5)\n",
    "\n",
    "# Display the heatmap\n",
    "plt.show()"
   ]
  },
  {
   "cell_type": "code",
   "execution_count": null,
   "id": "879dc67a-9b6a-422f-b4e9-91e541fe0767",
   "metadata": {
    "jupyter": {
     "outputs_hidden": true
    }
   },
   "outputs": [],
   "source": []
  },
  {
   "cell_type": "code",
   "execution_count": null,
   "id": "c23531fc-a237-4f79-a51e-54f32c4d1988",
   "metadata": {},
   "outputs": [],
   "source": []
  }
 ],
 "metadata": {
  "kernelspec": {
   "display_name": "Python 3 (ipykernel)",
   "language": "python",
   "name": "python3"
  },
  "language_info": {
   "codemirror_mode": {
    "name": "ipython",
    "version": 3
   },
   "file_extension": ".py",
   "mimetype": "text/x-python",
   "name": "python",
   "nbconvert_exporter": "python",
   "pygments_lexer": "ipython3",
   "version": "3.11.4"
  }
 },
 "nbformat": 4,
 "nbformat_minor": 5
}
